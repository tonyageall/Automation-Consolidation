{
 "cells": [
  {
   "cell_type": "code",
   "execution_count": 1,
   "metadata": {},
   "outputs": [],
   "source": [
    "from consolidation.plateConsol import EchotoPlateConsol\n",
    "from consolidation.plateConsol import CGEplatesConsol\n",
    "from consolidation.ToDatabase import GB\n",
    "from consolidation.ToDatabase.GB import ProjectScraper\n",
    "from neo4j import GraphDatabase\n",
    "\n",
    "import pandas as pd\n",
    "import numpy as np \n",
    "from datetime import datetime\n",
    "import os\n",
    "import re"
   ]
  },
  {
   "cell_type": "code",
   "execution_count": 2,
   "metadata": {},
   "outputs": [],
   "source": [
    "DIRS = r'C:\\Users\\anfarina\\OneDrive - Primrose Bio, Inc\\EXP4605- FastFeas 8MTT and Pertactin\\OneDrive_2024-01-23\\Biomek Logs/1_Agar CP/'\n",
    "FirstMeta = EchotoPlateConsol.PlateConverter(DIRS).convert()"
   ]
  },
  {
   "cell_type": "code",
   "execution_count": 3,
   "metadata": {},
   "outputs": [
    {
     "data": {
      "text/html": [
       "<div>\n",
       "<style scoped>\n",
       "    .dataframe tbody tr th:only-of-type {\n",
       "        vertical-align: middle;\n",
       "    }\n",
       "\n",
       "    .dataframe tbody tr th {\n",
       "        vertical-align: top;\n",
       "    }\n",
       "\n",
       "    .dataframe thead th {\n",
       "        text-align: right;\n",
       "    }\n",
       "</style>\n",
       "<table border=\"1\" class=\"dataframe\">\n",
       "  <thead>\n",
       "    <tr style=\"text-align: right;\">\n",
       "      <th></th>\n",
       "      <th>ECHO_Source Plate Name</th>\n",
       "      <th>ECHO_Source Plate Barcode</th>\n",
       "      <th>ECHO_Source Well</th>\n",
       "      <th>384_AGAR_PLATE</th>\n",
       "      <th>echo_well_pick_actionTime</th>\n",
       "      <th>384_AGAR_PLATE_WELL</th>\n",
       "      <th>96_GROWTH_PLATE</th>\n",
       "      <th>Sample Name</th>\n",
       "      <th>log_file</th>\n",
       "      <th>EchoCherryPick_well_pick_actionTime</th>\n",
       "      <th>EchoCherryPick_method_start_time</th>\n",
       "      <th>Autiomation_SerialNum</th>\n",
       "    </tr>\n",
       "  </thead>\n",
       "  <tbody>\n",
       "    <tr>\n",
       "      <th>0</th>\n",
       "      <td>Source Plate[1]</td>\n",
       "      <td>Source[1]</td>\n",
       "      <td>B1</td>\n",
       "      <td>A0000404</td>\n",
       "      <td>09/05/2023 16:19:40</td>\n",
       "      <td>O6</td>\n",
       "      <td>G0000426</td>\n",
       "      <td>B7</td>\n",
       "      <td>UnifiedTransfer09-05-2023 16.18.38.log</td>\n",
       "      <td>2023-09-05 16:19:40</td>\n",
       "      <td>2023-09-05 16:18:38</td>\n",
       "      <td>B8758519K13</td>\n",
       "    </tr>\n",
       "    <tr>\n",
       "      <th>1</th>\n",
       "      <td>Source Plate[1]</td>\n",
       "      <td>Source[1]</td>\n",
       "      <td>B1</td>\n",
       "      <td>A0000404</td>\n",
       "      <td>09/05/2023 16:19:40</td>\n",
       "      <td>M6</td>\n",
       "      <td>G0000426</td>\n",
       "      <td>C7</td>\n",
       "      <td>UnifiedTransfer09-05-2023 16.18.38.log</td>\n",
       "      <td>2023-09-05 16:19:40</td>\n",
       "      <td>2023-09-05 16:18:38</td>\n",
       "      <td>B8758519K13</td>\n",
       "    </tr>\n",
       "    <tr>\n",
       "      <th>2</th>\n",
       "      <td>Source Plate[1]</td>\n",
       "      <td>Source[1]</td>\n",
       "      <td>B1</td>\n",
       "      <td>A0000404</td>\n",
       "      <td>09/05/2023 16:19:40</td>\n",
       "      <td>J6</td>\n",
       "      <td>G0000426</td>\n",
       "      <td>D7</td>\n",
       "      <td>UnifiedTransfer09-05-2023 16.18.38.log</td>\n",
       "      <td>2023-09-05 16:19:40</td>\n",
       "      <td>2023-09-05 16:18:38</td>\n",
       "      <td>B8758519K13</td>\n",
       "    </tr>\n",
       "    <tr>\n",
       "      <th>3</th>\n",
       "      <td>Source Plate[1]</td>\n",
       "      <td>Source[1]</td>\n",
       "      <td>B1</td>\n",
       "      <td>A0000404</td>\n",
       "      <td>09/05/2023 16:19:40</td>\n",
       "      <td>O5</td>\n",
       "      <td>G0000426</td>\n",
       "      <td>E7</td>\n",
       "      <td>UnifiedTransfer09-05-2023 16.18.38.log</td>\n",
       "      <td>2023-09-05 16:19:40</td>\n",
       "      <td>2023-09-05 16:18:38</td>\n",
       "      <td>B8758519K13</td>\n",
       "    </tr>\n",
       "    <tr>\n",
       "      <th>4</th>\n",
       "      <td>Source Plate[1]</td>\n",
       "      <td>Source[1]</td>\n",
       "      <td>B1</td>\n",
       "      <td>A0000404</td>\n",
       "      <td>09/05/2023 16:19:40</td>\n",
       "      <td>L4</td>\n",
       "      <td>G0000426</td>\n",
       "      <td>F7</td>\n",
       "      <td>UnifiedTransfer09-05-2023 16.18.38.log</td>\n",
       "      <td>2023-09-05 16:19:40</td>\n",
       "      <td>2023-09-05 16:18:38</td>\n",
       "      <td>B8758519K13</td>\n",
       "    </tr>\n",
       "  </tbody>\n",
       "</table>\n",
       "</div>"
      ],
      "text/plain": [
       "  ECHO_Source Plate Name ECHO_Source Plate Barcode ECHO_Source Well  \\\n",
       "0        Source Plate[1]                 Source[1]               B1   \n",
       "1        Source Plate[1]                 Source[1]               B1   \n",
       "2        Source Plate[1]                 Source[1]               B1   \n",
       "3        Source Plate[1]                 Source[1]               B1   \n",
       "4        Source Plate[1]                 Source[1]               B1   \n",
       "\n",
       "  384_AGAR_PLATE echo_well_pick_actionTime 384_AGAR_PLATE_WELL  \\\n",
       "0       A0000404       09/05/2023 16:19:40                  O6   \n",
       "1       A0000404       09/05/2023 16:19:40                  M6   \n",
       "2       A0000404       09/05/2023 16:19:40                  J6   \n",
       "3       A0000404       09/05/2023 16:19:40                  O5   \n",
       "4       A0000404       09/05/2023 16:19:40                  L4   \n",
       "\n",
       "  96_GROWTH_PLATE Sample Name                                log_file  \\\n",
       "0        G0000426          B7  UnifiedTransfer09-05-2023 16.18.38.log   \n",
       "1        G0000426          C7  UnifiedTransfer09-05-2023 16.18.38.log   \n",
       "2        G0000426          D7  UnifiedTransfer09-05-2023 16.18.38.log   \n",
       "3        G0000426          E7  UnifiedTransfer09-05-2023 16.18.38.log   \n",
       "4        G0000426          F7  UnifiedTransfer09-05-2023 16.18.38.log   \n",
       "\n",
       "  EchoCherryPick_well_pick_actionTime EchoCherryPick_method_start_time  \\\n",
       "0                 2023-09-05 16:19:40              2023-09-05 16:18:38   \n",
       "1                 2023-09-05 16:19:40              2023-09-05 16:18:38   \n",
       "2                 2023-09-05 16:19:40              2023-09-05 16:18:38   \n",
       "3                 2023-09-05 16:19:40              2023-09-05 16:18:38   \n",
       "4                 2023-09-05 16:19:40              2023-09-05 16:18:38   \n",
       "\n",
       "  Autiomation_SerialNum  \n",
       "0           B8758519K13  \n",
       "1           B8758519K13  \n",
       "2           B8758519K13  \n",
       "3           B8758519K13  \n",
       "4           B8758519K13  "
      ]
     },
     "execution_count": 3,
     "metadata": {},
     "output_type": "execute_result"
    }
   ],
   "source": [
    "FirstMeta.head(n=5)"
   ]
  },
  {
   "cell_type": "code",
   "execution_count": 18,
   "metadata": {},
   "outputs": [
    {
     "data": {
      "text/html": [
       "<div>\n",
       "<style scoped>\n",
       "    .dataframe tbody tr th:only-of-type {\n",
       "        vertical-align: middle;\n",
       "    }\n",
       "\n",
       "    .dataframe tbody tr th {\n",
       "        vertical-align: top;\n",
       "    }\n",
       "\n",
       "    .dataframe thead th {\n",
       "        text-align: right;\n",
       "    }\n",
       "</style>\n",
       "<table border=\"1\" class=\"dataframe\">\n",
       "  <thead>\n",
       "    <tr style=\"text-align: right;\">\n",
       "      <th></th>\n",
       "      <th>ECHO_Source Plate Name</th>\n",
       "      <th>ECHO_Source Plate Barcode</th>\n",
       "      <th>ECHO_Source Well</th>\n",
       "      <th>384_AGAR_PLATE</th>\n",
       "      <th>384_AGAR_PLATE_WELL</th>\n",
       "      <th>96_GROWTH_PLATE</th>\n",
       "      <th>Sample Name</th>\n",
       "      <th>log_file</th>\n",
       "      <th>Growth_Inoculation_Time</th>\n",
       "      <th>Autiomation_SerialNum</th>\n",
       "      <th>Dilution_Plate</th>\n",
       "      <th>Dilution_Log</th>\n",
       "      <th>Dilution_Autiomation_Serial_Number</th>\n",
       "    </tr>\n",
       "  </thead>\n",
       "  <tbody>\n",
       "    <tr>\n",
       "      <th>0</th>\n",
       "      <td>Source Plate[1]</td>\n",
       "      <td>Source[1]</td>\n",
       "      <td>B1</td>\n",
       "      <td>A0000404</td>\n",
       "      <td>O6</td>\n",
       "      <td>G0000426</td>\n",
       "      <td>B7</td>\n",
       "      <td>UnifiedTransfer09-05-2023 16.18.38.log</td>\n",
       "      <td>2023-09-05 16:18:38</td>\n",
       "      <td>B8758519K13</td>\n",
       "      <td>D0000002</td>\n",
       "      <td>Pipetting09-07-2023 13.15.04.log</td>\n",
       "      <td>B8758519K13</td>\n",
       "    </tr>\n",
       "    <tr>\n",
       "      <th>1</th>\n",
       "      <td>Source Plate[1]</td>\n",
       "      <td>Source[1]</td>\n",
       "      <td>B1</td>\n",
       "      <td>A0000404</td>\n",
       "      <td>M6</td>\n",
       "      <td>G0000426</td>\n",
       "      <td>C7</td>\n",
       "      <td>UnifiedTransfer09-05-2023 16.18.38.log</td>\n",
       "      <td>2023-09-05 16:18:38</td>\n",
       "      <td>B8758519K13</td>\n",
       "      <td>D0000002</td>\n",
       "      <td>Pipetting09-07-2023 13.15.04.log</td>\n",
       "      <td>B8758519K13</td>\n",
       "    </tr>\n",
       "  </tbody>\n",
       "</table>\n",
       "</div>"
      ],
      "text/plain": [
       "  ECHO_Source Plate Name ECHO_Source Plate Barcode ECHO_Source Well  \\\n",
       "0        Source Plate[1]                 Source[1]               B1   \n",
       "1        Source Plate[1]                 Source[1]               B1   \n",
       "\n",
       "  384_AGAR_PLATE 384_AGAR_PLATE_WELL 96_GROWTH_PLATE Sample Name  \\\n",
       "0       A0000404                  O6        G0000426          B7   \n",
       "1       A0000404                  M6        G0000426          C7   \n",
       "\n",
       "                                 log_file Growth_Inoculation_Time  \\\n",
       "0  UnifiedTransfer09-05-2023 16.18.38.log     2023-09-05 16:18:38   \n",
       "1  UnifiedTransfer09-05-2023 16.18.38.log     2023-09-05 16:18:38   \n",
       "\n",
       "  Autiomation_SerialNum Dilution_Plate                      Dilution_Log  \\\n",
       "0           B8758519K13       D0000002  Pipetting09-07-2023 13.15.04.log   \n",
       "1           B8758519K13       D0000002  Pipetting09-07-2023 13.15.04.log   \n",
       "\n",
       "  Dilution_Autiomation_Serial_Number  \n",
       "0                        B8758519K13  \n",
       "1                        B8758519K13  "
      ]
     },
     "execution_count": 18,
     "metadata": {},
     "output_type": "execute_result"
    }
   ],
   "source": [
    "dp = r'C:\\Users\\anfarina\\OneDrive - Primrose Bio, Inc\\EXP4605- FastFeas 8MTT and Pertactin\\OneDrive_2024-01-23\\Biomek Logs/3_Harvest/'\n",
    "\n",
    "ToDPplate = EchotoPlateConsol.DilutionPlateCreator(dp, FirstMeta).create_dilution_plates()\n",
    "\n",
    "ToDPplate.head(n=2)"
   ]
  },
  {
   "cell_type": "code",
   "execution_count": 19,
   "metadata": {},
   "outputs": [],
   "source": [
    "gp = r'C:\\Users\\anfarina\\OneDrive - Primrose Bio, Inc\\EXP4605- FastFeas 8MTT and Pertactin\\OneDrive_2024-01-23\\Biomek Logs/4_GLY'"
   ]
  },
  {
   "cell_type": "code",
   "execution_count": 20,
   "metadata": {},
   "outputs": [],
   "source": [
    "ToGP = EchotoPlateConsol.GlycerolPlates(gp, ToDPplate).convert()"
   ]
  },
  {
   "cell_type": "code",
   "execution_count": 21,
   "metadata": {},
   "outputs": [
    {
     "data": {
      "text/html": [
       "<div>\n",
       "<style scoped>\n",
       "    .dataframe tbody tr th:only-of-type {\n",
       "        vertical-align: middle;\n",
       "    }\n",
       "\n",
       "    .dataframe tbody tr th {\n",
       "        vertical-align: top;\n",
       "    }\n",
       "\n",
       "    .dataframe thead th {\n",
       "        text-align: right;\n",
       "    }\n",
       "</style>\n",
       "<table border=\"1\" class=\"dataframe\">\n",
       "  <thead>\n",
       "    <tr style=\"text-align: right;\">\n",
       "      <th></th>\n",
       "      <th>ECHO_Source Plate Name</th>\n",
       "      <th>ECHO_Source Plate Barcode</th>\n",
       "      <th>ECHO_Source Well</th>\n",
       "      <th>384_AGAR_PLATE</th>\n",
       "      <th>384_AGAR_PLATE_WELL</th>\n",
       "      <th>96_GROWTH_PLATE</th>\n",
       "      <th>Sample Name</th>\n",
       "      <th>log_file</th>\n",
       "      <th>Growth_Inoculation_Time</th>\n",
       "      <th>Autiomation_SerialNum</th>\n",
       "      <th>Dilution_Plate</th>\n",
       "      <th>Dilution_Log</th>\n",
       "      <th>Dilution_Autiomation_Serial_Number</th>\n",
       "      <th>Glycerol_Plate</th>\n",
       "      <th>Glycerol_Autiomation_Serial_Number</th>\n",
       "    </tr>\n",
       "  </thead>\n",
       "  <tbody>\n",
       "    <tr>\n",
       "      <th>0</th>\n",
       "      <td>Source Plate[1]</td>\n",
       "      <td>Source[1]</td>\n",
       "      <td>B1</td>\n",
       "      <td>A0000404</td>\n",
       "      <td>O6</td>\n",
       "      <td>G0000426</td>\n",
       "      <td>B7</td>\n",
       "      <td>UnifiedTransfer09-05-2023 16.18.38.log</td>\n",
       "      <td>2023-09-05 16:18:38</td>\n",
       "      <td>B8758519K13</td>\n",
       "      <td>D0000002</td>\n",
       "      <td>Pipetting09-07-2023 13.15.04.log</td>\n",
       "      <td>B8758519K13</td>\n",
       "      <td>GLY0000002</td>\n",
       "      <td>B8758519K13</td>\n",
       "    </tr>\n",
       "    <tr>\n",
       "      <th>1</th>\n",
       "      <td>Source Plate[1]</td>\n",
       "      <td>Source[1]</td>\n",
       "      <td>B1</td>\n",
       "      <td>A0000404</td>\n",
       "      <td>M6</td>\n",
       "      <td>G0000426</td>\n",
       "      <td>C7</td>\n",
       "      <td>UnifiedTransfer09-05-2023 16.18.38.log</td>\n",
       "      <td>2023-09-05 16:18:38</td>\n",
       "      <td>B8758519K13</td>\n",
       "      <td>D0000002</td>\n",
       "      <td>Pipetting09-07-2023 13.15.04.log</td>\n",
       "      <td>B8758519K13</td>\n",
       "      <td>GLY0000002</td>\n",
       "      <td>B8758519K13</td>\n",
       "    </tr>\n",
       "    <tr>\n",
       "      <th>2</th>\n",
       "      <td>Source Plate[1]</td>\n",
       "      <td>Source[1]</td>\n",
       "      <td>B1</td>\n",
       "      <td>A0000404</td>\n",
       "      <td>J6</td>\n",
       "      <td>G0000426</td>\n",
       "      <td>D7</td>\n",
       "      <td>UnifiedTransfer09-05-2023 16.18.38.log</td>\n",
       "      <td>2023-09-05 16:18:38</td>\n",
       "      <td>B8758519K13</td>\n",
       "      <td>D0000002</td>\n",
       "      <td>Pipetting09-07-2023 13.15.04.log</td>\n",
       "      <td>B8758519K13</td>\n",
       "      <td>GLY0000002</td>\n",
       "      <td>B8758519K13</td>\n",
       "    </tr>\n",
       "  </tbody>\n",
       "</table>\n",
       "</div>"
      ],
      "text/plain": [
       "  ECHO_Source Plate Name ECHO_Source Plate Barcode ECHO_Source Well  \\\n",
       "0        Source Plate[1]                 Source[1]               B1   \n",
       "1        Source Plate[1]                 Source[1]               B1   \n",
       "2        Source Plate[1]                 Source[1]               B1   \n",
       "\n",
       "  384_AGAR_PLATE 384_AGAR_PLATE_WELL 96_GROWTH_PLATE Sample Name  \\\n",
       "0       A0000404                  O6        G0000426          B7   \n",
       "1       A0000404                  M6        G0000426          C7   \n",
       "2       A0000404                  J6        G0000426          D7   \n",
       "\n",
       "                                 log_file Growth_Inoculation_Time  \\\n",
       "0  UnifiedTransfer09-05-2023 16.18.38.log     2023-09-05 16:18:38   \n",
       "1  UnifiedTransfer09-05-2023 16.18.38.log     2023-09-05 16:18:38   \n",
       "2  UnifiedTransfer09-05-2023 16.18.38.log     2023-09-05 16:18:38   \n",
       "\n",
       "  Autiomation_SerialNum Dilution_Plate                      Dilution_Log  \\\n",
       "0           B8758519K13       D0000002  Pipetting09-07-2023 13.15.04.log   \n",
       "1           B8758519K13       D0000002  Pipetting09-07-2023 13.15.04.log   \n",
       "2           B8758519K13       D0000002  Pipetting09-07-2023 13.15.04.log   \n",
       "\n",
       "  Dilution_Autiomation_Serial_Number Glycerol_Plate  \\\n",
       "0                        B8758519K13     GLY0000002   \n",
       "1                        B8758519K13     GLY0000002   \n",
       "2                        B8758519K13     GLY0000002   \n",
       "\n",
       "  Glycerol_Autiomation_Serial_Number  \n",
       "0                        B8758519K13  \n",
       "1                        B8758519K13  \n",
       "2                        B8758519K13  "
      ]
     },
     "execution_count": 21,
     "metadata": {},
     "output_type": "execute_result"
    }
   ],
   "source": [
    "ToGP.head(n=3)"
   ]
  },
  {
   "cell_type": "code",
   "execution_count": 3,
   "metadata": {},
   "outputs": [],
   "source": [
    "#--directory to the dilution logs \n",
    "dp = r'C:\\Users\\anfarina\\OneDrive - Primrose Bio, Inc\\EXP4605- FastFeas 8MTT and Pertactin\\OneDrive_2024-01-23\\Biomek Logs/5_Decant'"
   ]
  },
  {
   "cell_type": "code",
   "execution_count": 23,
   "metadata": {},
   "outputs": [],
   "source": [
    "#--initiate the getDilutionPlate class\n",
    "FORCGE = CGEplatesConsol.GetDilutionPlates(ToGP, dp)"
   ]
  },
  {
   "cell_type": "code",
   "execution_count": 26,
   "metadata": {},
   "outputs": [
    {
     "data": {
      "text/plain": [
       "array(['D0000002', 'D0000004', 'D0000006', 'D0000008', 'D0000010',\n",
       "       'D0000012', 'D0000014', 'D0000016'], dtype=object)"
      ]
     },
     "execution_count": 26,
     "metadata": {},
     "output_type": "execute_result"
    }
   ],
   "source": [
    "#--check dilution plates\n",
    "FORCGE.getDplates()\n",
    "FORCGE.Dplates"
   ]
  },
  {
   "cell_type": "code",
   "execution_count": 7,
   "metadata": {},
   "outputs": [],
   "source": [
    "#--method to get insol plate dictionary\n",
    "log_data = []\n",
    "for file in os.listdir(dp):\n",
    "            if file.endswith('.log'):\n",
    "                PATH = os.path.join(dp, file)\n",
    "                f1 = open(PATH, 'r').readlines()[18:]\n",
    "                D1 = np.loadtxt(f1, dtype=object, delimiter=',')\n",
    "                        "
   ]
  },
  {
   "cell_type": "code",
   "execution_count": 12,
   "metadata": {},
   "outputs": [
    {
     "data": {
      "text/html": [
       "<div>\n",
       "<style scoped>\n",
       "    .dataframe tbody tr th:only-of-type {\n",
       "        vertical-align: middle;\n",
       "    }\n",
       "\n",
       "    .dataframe tbody tr th {\n",
       "        vertical-align: top;\n",
       "    }\n",
       "\n",
       "    .dataframe thead th {\n",
       "        text-align: right;\n",
       "    }\n",
       "</style>\n",
       "<table border=\"1\" class=\"dataframe\">\n",
       "  <thead>\n",
       "    <tr style=\"text-align: right;\">\n",
       "      <th></th>\n",
       "      <th>0</th>\n",
       "      <th>1</th>\n",
       "      <th>2</th>\n",
       "      <th>3</th>\n",
       "      <th>4</th>\n",
       "      <th>5</th>\n",
       "      <th>6</th>\n",
       "      <th>7</th>\n",
       "      <th>8</th>\n",
       "    </tr>\n",
       "  </thead>\n",
       "  <tbody>\n",
       "    <tr>\n",
       "      <th>0</th>\n",
       "      <td>09/07/2023 17:46:55</td>\n",
       "      <td>Pod1</td>\n",
       "      <td>Dispense</td>\n",
       "      <td>TL23</td>\n",
       "      <td>S0000002</td>\n",
       "      <td>D0000002</td>\n",
       "      <td>1</td>\n",
       "      <td>155</td>\n",
       "      <td>Decanting_MC230uL</td>\n",
       "    </tr>\n",
       "    <tr>\n",
       "      <th>2</th>\n",
       "      <td>09/07/2023 17:47:46</td>\n",
       "      <td>Pod1</td>\n",
       "      <td>Dispense</td>\n",
       "      <td>TL23</td>\n",
       "      <td>S0000002</td>\n",
       "      <td>D0000002</td>\n",
       "      <td>1</td>\n",
       "      <td>155</td>\n",
       "      <td>Decanting_MC230uL</td>\n",
       "    </tr>\n",
       "    <tr>\n",
       "      <th>4</th>\n",
       "      <td>09/07/2023 17:52:27</td>\n",
       "      <td>Pod1</td>\n",
       "      <td>Dispense</td>\n",
       "      <td>TL23</td>\n",
       "      <td>S0000002</td>\n",
       "      <td>D0000002</td>\n",
       "      <td>1</td>\n",
       "      <td>155</td>\n",
       "      <td>Decanting_MC230uL</td>\n",
       "    </tr>\n",
       "    <tr>\n",
       "      <th>12</th>\n",
       "      <td>09/07/2023 17:54:53</td>\n",
       "      <td>Pod1</td>\n",
       "      <td>Dispense</td>\n",
       "      <td>TL24</td>\n",
       "      <td>S0000010</td>\n",
       "      <td>D0000010</td>\n",
       "      <td>1</td>\n",
       "      <td>155</td>\n",
       "      <td>Decanting_MC230uL</td>\n",
       "    </tr>\n",
       "    <tr>\n",
       "      <th>14</th>\n",
       "      <td>09/07/2023 17:55:44</td>\n",
       "      <td>Pod1</td>\n",
       "      <td>Dispense</td>\n",
       "      <td>TL24</td>\n",
       "      <td>S0000010</td>\n",
       "      <td>D0000010</td>\n",
       "      <td>1</td>\n",
       "      <td>155</td>\n",
       "      <td>Decanting_MC230uL</td>\n",
       "    </tr>\n",
       "    <tr>\n",
       "      <th>16</th>\n",
       "      <td>09/07/2023 17:56:34</td>\n",
       "      <td>Pod1</td>\n",
       "      <td>Dispense</td>\n",
       "      <td>TL24</td>\n",
       "      <td>S0000010</td>\n",
       "      <td>D0000010</td>\n",
       "      <td>1</td>\n",
       "      <td>155</td>\n",
       "      <td>Decanting_MC230uL</td>\n",
       "    </tr>\n",
       "  </tbody>\n",
       "</table>\n",
       "</div>"
      ],
      "text/plain": [
       "                      0     1         2     3         4         5  6    7  \\\n",
       "0   09/07/2023 17:46:55  Pod1  Dispense  TL23  S0000002  D0000002  1  155   \n",
       "2   09/07/2023 17:47:46  Pod1  Dispense  TL23  S0000002  D0000002  1  155   \n",
       "4   09/07/2023 17:52:27  Pod1  Dispense  TL23  S0000002  D0000002  1  155   \n",
       "12  09/07/2023 17:54:53  Pod1  Dispense  TL24  S0000010  D0000010  1  155   \n",
       "14  09/07/2023 17:55:44  Pod1  Dispense  TL24  S0000010  D0000010  1  155   \n",
       "16  09/07/2023 17:56:34  Pod1  Dispense  TL24  S0000010  D0000010  1  155   \n",
       "\n",
       "                    8  \n",
       "0   Decanting_MC230uL  \n",
       "2   Decanting_MC230uL  \n",
       "4   Decanting_MC230uL  \n",
       "12  Decanting_MC230uL  \n",
       "14  Decanting_MC230uL  \n",
       "16  Decanting_MC230uL  "
      ]
     },
     "execution_count": 12,
     "metadata": {},
     "output_type": "execute_result"
    }
   ],
   "source": [
    "DATA = pd.DataFrame(D1)\n",
    "DATA[DATA[4].str.contains(r'S')]"
   ]
  },
  {
   "cell_type": "code",
   "execution_count": 14,
   "metadata": {},
   "outputs": [
    {
     "data": {
      "text/plain": [
       "array(['I0000002', 'I0000010'], dtype=object)"
      ]
     },
     "execution_count": 14,
     "metadata": {},
     "output_type": "execute_result"
    }
   ],
   "source": [
    "DATA[DATA[4].str.contains(r'I')][4].unique()"
   ]
  },
  {
   "cell_type": "code",
   "execution_count": null,
   "metadata": {},
   "outputs": [
    {
     "ename": "",
     "evalue": "",
     "output_type": "error",
     "traceback": [
      "\u001b[1;31mThe Kernel crashed while executing code in the the current cell or a previous cell. Please review the code in the cell(s) to identify a possible cause of the failure. Click <a href='https://aka.ms/vscodeJupyterKernelCrash'>here</a> for more info. View Jupyter <a href='command:jupyter.viewOutput'>log</a> for further details."
     ]
    }
   ],
   "source": [
    "pd.read_csv(log_data)"
   ]
  },
  {
   "cell_type": "code",
   "execution_count": 39,
   "metadata": {},
   "outputs": [
    {
     "data": {
      "text/plain": [
       "{}"
      ]
     },
     "execution_count": 39,
     "metadata": {},
     "output_type": "execute_result"
    }
   ],
   "source": [
    "FORCGE.insol"
   ]
  },
  {
   "cell_type": "code",
   "execution_count": 14,
   "metadata": {},
   "outputs": [],
   "source": [
    "#--method to get sol plate dictionary\n",
    "FORCGE.getSolPlates()"
   ]
  },
  {
   "cell_type": "code",
   "execution_count": 15,
   "metadata": {},
   "outputs": [
    {
     "data": {
      "text/plain": [
       "{'D0000002': 'No SOL Found', 'D0000010': 'No SOL Found'}"
      ]
     },
     "execution_count": 15,
     "metadata": {},
     "output_type": "execute_result"
    }
   ],
   "source": [
    "FORCGE.sol"
   ]
  },
  {
   "cell_type": "code",
   "execution_count": 16,
   "metadata": {},
   "outputs": [],
   "source": [
    "#--Convert Insol plates\n",
    "ToGP['Insol_Plate'] = ToGP['Dilution_Plate'].apply(lambda x: FORCGE.Analyzed_Plates_ISol(x)) "
   ]
  },
  {
   "cell_type": "code",
   "execution_count": 17,
   "metadata": {},
   "outputs": [
    {
     "data": {
      "text/html": [
       "<div>\n",
       "<style scoped>\n",
       "    .dataframe tbody tr th:only-of-type {\n",
       "        vertical-align: middle;\n",
       "    }\n",
       "\n",
       "    .dataframe tbody tr th {\n",
       "        vertical-align: top;\n",
       "    }\n",
       "\n",
       "    .dataframe thead th {\n",
       "        text-align: right;\n",
       "    }\n",
       "</style>\n",
       "<table border=\"1\" class=\"dataframe\">\n",
       "  <thead>\n",
       "    <tr style=\"text-align: right;\">\n",
       "      <th></th>\n",
       "      <th>ECHO_Source Plate Name</th>\n",
       "      <th>ECHO_Source Plate Barcode</th>\n",
       "      <th>ECHO_Source Well</th>\n",
       "      <th>384_AGAR_PLATE</th>\n",
       "      <th>384_AGAR_PLATE_WELL</th>\n",
       "      <th>96_GROWTH_PLATE</th>\n",
       "      <th>Sample Name</th>\n",
       "      <th>log_file</th>\n",
       "      <th>Growth_Inoculation_Time</th>\n",
       "      <th>Autiomation_SerialNum</th>\n",
       "      <th>Dilution_Plate</th>\n",
       "      <th>Dilution_Log</th>\n",
       "      <th>Dilution_Autiomation_Serial_Number</th>\n",
       "      <th>Glycerol_Plate</th>\n",
       "      <th>Glycerol_Autiomation_Serial_Number</th>\n",
       "      <th>Insol_Plate</th>\n",
       "    </tr>\n",
       "  </thead>\n",
       "  <tbody>\n",
       "    <tr>\n",
       "      <th>0</th>\n",
       "      <td>Source Plate[1]</td>\n",
       "      <td>Source[1]</td>\n",
       "      <td>B1</td>\n",
       "      <td>A0000404</td>\n",
       "      <td>O6</td>\n",
       "      <td>G0000426</td>\n",
       "      <td>B7</td>\n",
       "      <td>UnifiedTransfer09-05-2023 16.18.38.log</td>\n",
       "      <td>2023-09-05 16:18:38</td>\n",
       "      <td>B8758519K13</td>\n",
       "      <td>D0000002</td>\n",
       "      <td>Pipetting09-07-2023 13.15.04.log</td>\n",
       "      <td>B8758519K13</td>\n",
       "      <td>GLY0000002</td>\n",
       "      <td>B8758519K13</td>\n",
       "      <td>I0000002</td>\n",
       "    </tr>\n",
       "    <tr>\n",
       "      <th>1</th>\n",
       "      <td>Source Plate[1]</td>\n",
       "      <td>Source[1]</td>\n",
       "      <td>B1</td>\n",
       "      <td>A0000404</td>\n",
       "      <td>M6</td>\n",
       "      <td>G0000426</td>\n",
       "      <td>C7</td>\n",
       "      <td>UnifiedTransfer09-05-2023 16.18.38.log</td>\n",
       "      <td>2023-09-05 16:18:38</td>\n",
       "      <td>B8758519K13</td>\n",
       "      <td>D0000002</td>\n",
       "      <td>Pipetting09-07-2023 13.15.04.log</td>\n",
       "      <td>B8758519K13</td>\n",
       "      <td>GLY0000002</td>\n",
       "      <td>B8758519K13</td>\n",
       "      <td>I0000002</td>\n",
       "    </tr>\n",
       "    <tr>\n",
       "      <th>2</th>\n",
       "      <td>Source Plate[1]</td>\n",
       "      <td>Source[1]</td>\n",
       "      <td>B1</td>\n",
       "      <td>A0000404</td>\n",
       "      <td>J6</td>\n",
       "      <td>G0000426</td>\n",
       "      <td>D7</td>\n",
       "      <td>UnifiedTransfer09-05-2023 16.18.38.log</td>\n",
       "      <td>2023-09-05 16:18:38</td>\n",
       "      <td>B8758519K13</td>\n",
       "      <td>D0000002</td>\n",
       "      <td>Pipetting09-07-2023 13.15.04.log</td>\n",
       "      <td>B8758519K13</td>\n",
       "      <td>GLY0000002</td>\n",
       "      <td>B8758519K13</td>\n",
       "      <td>I0000002</td>\n",
       "    </tr>\n",
       "  </tbody>\n",
       "</table>\n",
       "</div>"
      ],
      "text/plain": [
       "  ECHO_Source Plate Name ECHO_Source Plate Barcode ECHO_Source Well  \\\n",
       "0        Source Plate[1]                 Source[1]               B1   \n",
       "1        Source Plate[1]                 Source[1]               B1   \n",
       "2        Source Plate[1]                 Source[1]               B1   \n",
       "\n",
       "  384_AGAR_PLATE 384_AGAR_PLATE_WELL 96_GROWTH_PLATE Sample Name  \\\n",
       "0       A0000404                  O6        G0000426          B7   \n",
       "1       A0000404                  M6        G0000426          C7   \n",
       "2       A0000404                  J6        G0000426          D7   \n",
       "\n",
       "                                 log_file Growth_Inoculation_Time  \\\n",
       "0  UnifiedTransfer09-05-2023 16.18.38.log     2023-09-05 16:18:38   \n",
       "1  UnifiedTransfer09-05-2023 16.18.38.log     2023-09-05 16:18:38   \n",
       "2  UnifiedTransfer09-05-2023 16.18.38.log     2023-09-05 16:18:38   \n",
       "\n",
       "  Autiomation_SerialNum Dilution_Plate                      Dilution_Log  \\\n",
       "0           B8758519K13       D0000002  Pipetting09-07-2023 13.15.04.log   \n",
       "1           B8758519K13       D0000002  Pipetting09-07-2023 13.15.04.log   \n",
       "2           B8758519K13       D0000002  Pipetting09-07-2023 13.15.04.log   \n",
       "\n",
       "  Dilution_Autiomation_Serial_Number Glycerol_Plate  \\\n",
       "0                        B8758519K13     GLY0000002   \n",
       "1                        B8758519K13     GLY0000002   \n",
       "2                        B8758519K13     GLY0000002   \n",
       "\n",
       "  Glycerol_Autiomation_Serial_Number Insol_Plate  \n",
       "0                        B8758519K13    I0000002  \n",
       "1                        B8758519K13    I0000002  \n",
       "2                        B8758519K13    I0000002  "
      ]
     },
     "execution_count": 17,
     "metadata": {},
     "output_type": "execute_result"
    }
   ],
   "source": [
    "ToGP.head(n=3)"
   ]
  },
  {
   "cell_type": "code",
   "execution_count": 18,
   "metadata": {},
   "outputs": [],
   "source": [
    "ToGP['Sol_Plate'] = ToGP['Dilution_Plate'].apply(lambda x: FORCGE.Analyzed_Plates_Sol(x))"
   ]
  },
  {
   "cell_type": "code",
   "execution_count": 19,
   "metadata": {},
   "outputs": [
    {
     "data": {
      "text/html": [
       "<div>\n",
       "<style scoped>\n",
       "    .dataframe tbody tr th:only-of-type {\n",
       "        vertical-align: middle;\n",
       "    }\n",
       "\n",
       "    .dataframe tbody tr th {\n",
       "        vertical-align: top;\n",
       "    }\n",
       "\n",
       "    .dataframe thead th {\n",
       "        text-align: right;\n",
       "    }\n",
       "</style>\n",
       "<table border=\"1\" class=\"dataframe\">\n",
       "  <thead>\n",
       "    <tr style=\"text-align: right;\">\n",
       "      <th></th>\n",
       "      <th>ECHO_Source Plate Name</th>\n",
       "      <th>ECHO_Source Plate Barcode</th>\n",
       "      <th>ECHO_Source Well</th>\n",
       "      <th>384_AGAR_PLATE</th>\n",
       "      <th>384_AGAR_PLATE_WELL</th>\n",
       "      <th>96_GROWTH_PLATE</th>\n",
       "      <th>Sample Name</th>\n",
       "      <th>log_file</th>\n",
       "      <th>Growth_Inoculation_Time</th>\n",
       "      <th>Autiomation_SerialNum</th>\n",
       "      <th>Dilution_Plate</th>\n",
       "      <th>Dilution_Log</th>\n",
       "      <th>Dilution_Autiomation_Serial_Number</th>\n",
       "      <th>Glycerol_Plate</th>\n",
       "      <th>Glycerol_Autiomation_Serial_Number</th>\n",
       "      <th>Insol_Plate</th>\n",
       "      <th>Sol_Plate</th>\n",
       "    </tr>\n",
       "  </thead>\n",
       "  <tbody>\n",
       "    <tr>\n",
       "      <th>0</th>\n",
       "      <td>Source Plate[1]</td>\n",
       "      <td>Source[1]</td>\n",
       "      <td>B1</td>\n",
       "      <td>A0000404</td>\n",
       "      <td>O6</td>\n",
       "      <td>G0000426</td>\n",
       "      <td>B7</td>\n",
       "      <td>UnifiedTransfer09-05-2023 16.18.38.log</td>\n",
       "      <td>2023-09-05 16:18:38</td>\n",
       "      <td>B8758519K13</td>\n",
       "      <td>D0000002</td>\n",
       "      <td>Pipetting09-07-2023 13.15.04.log</td>\n",
       "      <td>B8758519K13</td>\n",
       "      <td>GLY0000002</td>\n",
       "      <td>B8758519K13</td>\n",
       "      <td>I0000002</td>\n",
       "      <td>No SOL Found</td>\n",
       "    </tr>\n",
       "    <tr>\n",
       "      <th>1</th>\n",
       "      <td>Source Plate[1]</td>\n",
       "      <td>Source[1]</td>\n",
       "      <td>B1</td>\n",
       "      <td>A0000404</td>\n",
       "      <td>M6</td>\n",
       "      <td>G0000426</td>\n",
       "      <td>C7</td>\n",
       "      <td>UnifiedTransfer09-05-2023 16.18.38.log</td>\n",
       "      <td>2023-09-05 16:18:38</td>\n",
       "      <td>B8758519K13</td>\n",
       "      <td>D0000002</td>\n",
       "      <td>Pipetting09-07-2023 13.15.04.log</td>\n",
       "      <td>B8758519K13</td>\n",
       "      <td>GLY0000002</td>\n",
       "      <td>B8758519K13</td>\n",
       "      <td>I0000002</td>\n",
       "      <td>No SOL Found</td>\n",
       "    </tr>\n",
       "    <tr>\n",
       "      <th>2</th>\n",
       "      <td>Source Plate[1]</td>\n",
       "      <td>Source[1]</td>\n",
       "      <td>B1</td>\n",
       "      <td>A0000404</td>\n",
       "      <td>J6</td>\n",
       "      <td>G0000426</td>\n",
       "      <td>D7</td>\n",
       "      <td>UnifiedTransfer09-05-2023 16.18.38.log</td>\n",
       "      <td>2023-09-05 16:18:38</td>\n",
       "      <td>B8758519K13</td>\n",
       "      <td>D0000002</td>\n",
       "      <td>Pipetting09-07-2023 13.15.04.log</td>\n",
       "      <td>B8758519K13</td>\n",
       "      <td>GLY0000002</td>\n",
       "      <td>B8758519K13</td>\n",
       "      <td>I0000002</td>\n",
       "      <td>No SOL Found</td>\n",
       "    </tr>\n",
       "  </tbody>\n",
       "</table>\n",
       "</div>"
      ],
      "text/plain": [
       "  ECHO_Source Plate Name ECHO_Source Plate Barcode ECHO_Source Well  \\\n",
       "0        Source Plate[1]                 Source[1]               B1   \n",
       "1        Source Plate[1]                 Source[1]               B1   \n",
       "2        Source Plate[1]                 Source[1]               B1   \n",
       "\n",
       "  384_AGAR_PLATE 384_AGAR_PLATE_WELL 96_GROWTH_PLATE Sample Name  \\\n",
       "0       A0000404                  O6        G0000426          B7   \n",
       "1       A0000404                  M6        G0000426          C7   \n",
       "2       A0000404                  J6        G0000426          D7   \n",
       "\n",
       "                                 log_file Growth_Inoculation_Time  \\\n",
       "0  UnifiedTransfer09-05-2023 16.18.38.log     2023-09-05 16:18:38   \n",
       "1  UnifiedTransfer09-05-2023 16.18.38.log     2023-09-05 16:18:38   \n",
       "2  UnifiedTransfer09-05-2023 16.18.38.log     2023-09-05 16:18:38   \n",
       "\n",
       "  Autiomation_SerialNum Dilution_Plate                      Dilution_Log  \\\n",
       "0           B8758519K13       D0000002  Pipetting09-07-2023 13.15.04.log   \n",
       "1           B8758519K13       D0000002  Pipetting09-07-2023 13.15.04.log   \n",
       "2           B8758519K13       D0000002  Pipetting09-07-2023 13.15.04.log   \n",
       "\n",
       "  Dilution_Autiomation_Serial_Number Glycerol_Plate  \\\n",
       "0                        B8758519K13     GLY0000002   \n",
       "1                        B8758519K13     GLY0000002   \n",
       "2                        B8758519K13     GLY0000002   \n",
       "\n",
       "  Glycerol_Autiomation_Serial_Number Insol_Plate     Sol_Plate  \n",
       "0                        B8758519K13    I0000002  No SOL Found  \n",
       "1                        B8758519K13    I0000002  No SOL Found  \n",
       "2                        B8758519K13    I0000002  No SOL Found  "
      ]
     },
     "execution_count": 19,
     "metadata": {},
     "output_type": "execute_result"
    }
   ],
   "source": [
    "ToGP.head(n=3)"
   ]
  },
  {
   "cell_type": "code",
   "execution_count": 20,
   "metadata": {},
   "outputs": [],
   "source": [
    "#--directory to the reduced CGE plates\n",
    "reduced = r'C:\\Users\\anfarina\\OneDrive - Primrose Bio, Inc\\EXP4605- FastFeas 8MTT and Pertactin\\OneDrive_2024-01-23\\Biomek Logs/6_CGE'"
   ]
  },
  {
   "cell_type": "code",
   "execution_count": 22,
   "metadata": {},
   "outputs": [],
   "source": [
    "#--initiate the ReducedNonReducedPlateConverter class\n",
    "FORCGEREDUCED = CGEplatesConsol.ReducedNonReducedPlateConverter(reduced)"
   ]
  },
  {
   "cell_type": "code",
   "execution_count": 23,
   "metadata": {},
   "outputs": [
    {
     "data": {
      "text/plain": [
       "['S0000002',\n",
       " 'RED0000008',\n",
       " 'S0000010',\n",
       " 'RED0000016',\n",
       " 'I0000002',\n",
       " 'RED0000024',\n",
       " 'I0000010',\n",
       " 'RED0000032']"
      ]
     },
     "execution_count": 23,
     "metadata": {},
     "output_type": "execute_result"
    }
   ],
   "source": [
    "#--collect and check the plates\n",
    "FORCGEREDUCED.collectPlates()\n",
    "FORCGEREDUCED.PLATES"
   ]
  },
  {
   "cell_type": "code",
   "execution_count": 4,
   "metadata": {},
   "outputs": [],
   "source": [
    "# Define the connection details\n",
    "uri = \"bolt://localhost:7687\"  # Update this with your Neo4j server URI\n",
    "username = \"neo4j\"\n",
    "password = 'fastassscreen'"
   ]
  },
  {
   "cell_type": "code",
   "execution_count": 5,
   "metadata": {},
   "outputs": [
    {
     "data": {
      "text/plain": [
       "'Connected'"
      ]
     },
     "execution_count": 5,
     "metadata": {},
     "output_type": "execute_result"
    }
   ],
   "source": [
    "#--test connection\n",
    "GB.Neo4jConnector(uri, username, password).connect().test_connection()"
   ]
  },
  {
   "cell_type": "code",
   "execution_count": 6,
   "metadata": {},
   "outputs": [],
   "source": [
    "#--basic project MetaData\n",
    "projectInfo = pd.read_csv(r'../ProjectInfo.csv')"
   ]
  },
  {
   "cell_type": "code",
   "execution_count": 7,
   "metadata": {},
   "outputs": [],
   "source": [
    "#--return basic meta information\n",
    "Project, START, END, SOW, GENES, PROTEINNAME, GENESeq, GENE_LeaderPROTEIN, Gene_NoLeaderProtein = ProjectScraper(projectInfo).scrape_project_input()"
   ]
  },
  {
   "cell_type": "code",
   "execution_count": 10,
   "metadata": {},
   "outputs": [],
   "source": [
    "#--push to graphical database\n",
    "with GraphDatabase.driver(uri, auth=(username, password)) as driver:\n",
    "    with driver.session() as session:\n",
    "        PROTEINLEADERINFO = GENE_LeaderPROTEIN.get(GENES[0])\n",
    "        PROTEINNLINFO = Gene_NoLeaderProtein.get(GENES[0])\n",
    "        session.execute_write(GB.create_project, Project[0], START, END, SOW)\n",
    "        session.execute_write(GB.create_gene_to_projects, Project[0], GENES[0], GENESeq,\n",
    "                            PROTEINNAME,  PROTEINLEADERINFO[1], PROTEINLEADERINFO[2], PROTEINLEADERINFO[3], PROTEINLEADERINFO[4],\n",
    "                            PROTEINNLINFO[1], PROTEINNLINFO[2], PROTEINNLINFO[3], PROTEINNLINFO[4], PROTEINLEADERINFO[0],  PROTEINNLINFO[0])"
   ]
  }
 ],
 "metadata": {
  "kernelspec": {
   "display_name": "dataAnalysis",
   "language": "python",
   "name": "python3"
  },
  "language_info": {
   "codemirror_mode": {
    "name": "ipython",
    "version": 3
   },
   "file_extension": ".py",
   "mimetype": "text/x-python",
   "name": "python",
   "nbconvert_exporter": "python",
   "pygments_lexer": "ipython3",
   "version": "3.10.3"
  }
 },
 "nbformat": 4,
 "nbformat_minor": 2
}
