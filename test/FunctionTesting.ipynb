{
 "cells": [
  {
   "cell_type": "code",
   "execution_count": 1,
   "metadata": {},
   "outputs": [],
   "source": [
    "import pandas as pd\n",
    "import numpy as np \n",
    "from datetime import datetime\n",
    "import os\n",
    "import re"
   ]
  },
  {
   "cell_type": "code",
   "execution_count": 3,
   "metadata": {},
   "outputs": [],
   "source": [
    "plates = r'5_Decant/'"
   ]
  },
  {
   "cell_type": "code",
   "execution_count": 34,
   "metadata": {},
   "outputs": [],
   "source": [
    "SOL = []\n",
    "INSOL = []\n",
    "SOLPLATES = {}\n",
    "INSOLPLATES = {}\n",
    "\n",
    "for file in os.listdir(plates):\n",
    "            if file.endswith('.log'):\n",
    "                PATH = os.path.join(plates, file)\n",
    "                f1 = open(PATH, 'r').readlines()\n",
    "                DILUTIONPLATE = [item for item in f1 if re.search(r'D[0-9]{1,9}', item)]\n",
    "                for item in DILUTIONPLATE:\n",
    "                        META = item.split(',')\n",
    "                        DIL = META[5]\n",
    "                        PLA = META[4]\n",
    "                        TIME = datetime.strptime(META[0], '%m/%d/%Y %H:%M:%S')\n",
    "                        if PLA not in (SOL and INSOL):\n",
    "                            if re.search(r'S', PLA) != None:\n",
    "                                    SOL.append(PLA)\n",
    "                                    try:\n",
    "                                        if SOLPLATES.get(DIL) != PLA:\n",
    "                                            SOLPLATES.update({DIL:PLA})\n",
    "                                        else:\n",
    "                                            continue\n",
    "                                    except:\n",
    "                                        SOLPLATES.update({DIL:PLA})\n",
    "                            \n",
    "                            if re.search(r'I', PLA) != None:\n",
    "                                    INSOL.append(PLA)\n",
    "                                    try:\n",
    "                                        if INSOLPLATES.get(DIL) != PLA:\n",
    "                                            INSOLPLATES.update({DIL:PLA})\n",
    "                                        else:\n",
    "                                            continue\n",
    "                                    except:\n",
    "                                        INSOLPLATES.update({DIL:PLA})\n",
    "                        else:\n",
    "                            continue\n",
    "                "
   ]
  },
  {
   "cell_type": "code",
   "execution_count": 35,
   "metadata": {},
   "outputs": [
    {
     "data": {
      "text/plain": [
       "{'D0000002': 'S0000002', 'D0000010': 'S0000010'}"
      ]
     },
     "execution_count": 35,
     "metadata": {},
     "output_type": "execute_result"
    }
   ],
   "source": [
    "SOLPLATES"
   ]
  },
  {
   "cell_type": "code",
   "execution_count": 36,
   "metadata": {},
   "outputs": [
    {
     "data": {
      "text/plain": [
       "{'D0000002': 'I0000002', 'D0000010': 'I0000010'}"
      ]
     },
     "execution_count": 36,
     "metadata": {},
     "output_type": "execute_result"
    }
   ],
   "source": [
    "INSOLPLATES"
   ]
  }
 ],
 "metadata": {
  "kernelspec": {
   "display_name": "DataAnalysis_Bio",
   "language": "python",
   "name": "python3"
  },
  "language_info": {
   "codemirror_mode": {
    "name": "ipython",
    "version": 3
   },
   "file_extension": ".py",
   "mimetype": "text/x-python",
   "name": "python",
   "nbconvert_exporter": "python",
   "pygments_lexer": "ipython3",
   "version": "3.12.1"
  }
 },
 "nbformat": 4,
 "nbformat_minor": 2
}
